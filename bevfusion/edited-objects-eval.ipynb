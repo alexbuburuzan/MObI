{
 "cells": [
  {
   "cell_type": "code",
   "execution_count": 1,
   "metadata": {},
   "outputs": [],
   "source": [
    "import json\n",
    "import matplotlib.pyplot as plt\n",
    "import numpy as np\n",
    "import pandas as pd\n",
    "\n",
    "# Use latex for font rendering\n",
    "plt.rc('text', usetex=True)\n",
    "plt.rc('font', family='serif')"
   ]
  },
  {
   "cell_type": "code",
   "execution_count": 2,
   "metadata": {},
   "outputs": [],
   "source": [
    "models = {\"Vanilla\": \"vanilla\", \"Vanilla Restricted\": \"vanilla_restricted\", \"Mobi\": \"mobi\", \"Mobi Restricted\": \"mobi_restricted\"}\n",
    "\n",
    "results = {}\n",
    "for k in models.values():\n",
    "    with open(f\"results_{k}/metrics_details.json\") as f:\n",
    "        results[k] = json.load(f)\n",
    "\n",
    "summary = {}\n",
    "for k in models.values():\n",
    "    with open(f\"results_{k}/metrics_summary.json\") as f:\n",
    "        summary[k] = json.load(f)"
   ]
  },
  {
   "cell_type": "code",
   "execution_count": 3,
   "metadata": {},
   "outputs": [
    {
     "data": {
      "text/plain": [
       "dict_keys(['car:0.5', 'car:1.0', 'car:2.0', 'car:4.0', 'truck:0.5', 'truck:1.0', 'truck:2.0', 'truck:4.0', 'bus:0.5', 'bus:1.0', 'bus:2.0', 'bus:4.0', 'trailer:0.5', 'trailer:1.0', 'trailer:2.0', 'trailer:4.0', 'construction_vehicle:0.5', 'construction_vehicle:1.0', 'construction_vehicle:2.0', 'construction_vehicle:4.0', 'pedestrian:0.5', 'pedestrian:1.0', 'pedestrian:2.0', 'pedestrian:4.0', 'motorcycle:0.5', 'motorcycle:1.0', 'motorcycle:2.0', 'motorcycle:4.0', 'bicycle:0.5', 'bicycle:1.0', 'bicycle:2.0', 'bicycle:4.0', 'traffic_cone:0.5', 'traffic_cone:1.0', 'traffic_cone:2.0', 'traffic_cone:4.0', 'barrier:0.5', 'barrier:1.0', 'barrier:2.0', 'barrier:4.0'])"
      ]
     },
     "execution_count": 3,
     "metadata": {},
     "output_type": "execute_result"
    }
   ],
   "source": [
    "results[\"vanilla_restricted\"].keys()"
   ]
  },
  {
   "cell_type": "code",
   "execution_count": 4,
   "metadata": {},
   "outputs": [],
   "source": [
    "metrics = ['trans_err', 'vel_err', 'scale_err', 'orient_err', 'attr_err']\n",
    "classes = [\"car\", \"pedestrian\"]\n",
    "distances = [0.5, 1.0, 2.0, 4.0]\n",
    "\n",
    "metric_results = {}\n",
    "for k in models.values():\n",
    "    metric_results[k] = {}\n",
    "    for c in classes:\n",
    "        metric_results[k][c] = {}\n",
    "        for m in metrics:\n",
    "            metric_results[k][c][m] = np.mean([np.mean(results[k][f\"{c}:{d}\"][m]) for d in distances])"
   ]
  },
  {
   "cell_type": "code",
   "execution_count": 5,
   "metadata": {},
   "outputs": [
    {
     "data": {
      "text/plain": [
       "{'vanilla': {'car': {'trans_err': 0.17717198586449734,\n",
       "   'vel_err': 0.23298518307770252,\n",
       "   'scale_err': 0.15841581996110146,\n",
       "   'orient_err': 0.10462679317764516,\n",
       "   'attr_err': 0.07216705596571246},\n",
       "  'pedestrian': {'trans_err': 0.1254889501269094,\n",
       "   'vel_err': 0.36006635946909954,\n",
       "   'scale_err': 0.26245448157269385,\n",
       "   'orient_err': 0.47650584474468477,\n",
       "   'attr_err': 0.19013343802583257}},\n",
       " 'vanilla_restricted': {'car': {'trans_err': 0.1519148266036745,\n",
       "   'vel_err': 0.3652361236842582,\n",
       "   'scale_err': 0.1547944636983406,\n",
       "   'orient_err': 0.07925508286942606,\n",
       "   'attr_err': 0.10813492063492064},\n",
       "  'pedestrian': {'trans_err': 0.176109673361955,\n",
       "   'vel_err': 0.3869413382366472,\n",
       "   'scale_err': 0.22707340271025536,\n",
       "   'orient_err': 0.506637417046245,\n",
       "   'attr_err': 0.22727272727272727}},\n",
       " 'mobi': {'car': {'trans_err': 0.18446860260791795,\n",
       "   'vel_err': 0.2450998874020656,\n",
       "   'scale_err': 0.16742619344885554,\n",
       "   'orient_err': 0.12184586516706272,\n",
       "   'attr_err': 0.08083709045990131},\n",
       "  'pedestrian': {'trans_err': 0.12631977815053713,\n",
       "   'vel_err': 0.3609728210755158,\n",
       "   'scale_err': 0.2727906772959471,\n",
       "   'orient_err': 0.4875374178422386,\n",
       "   'attr_err': 0.19229859137013314}},\n",
       " 'mobi_restricted': {'car': {'trans_err': 0.21829323015841978,\n",
       "   'vel_err': 0.8500717169695313,\n",
       "   'scale_err': 0.16003226486820998,\n",
       "   'orient_err': 0.41377964434908926,\n",
       "   'attr_err': 0.3703889384036443},\n",
       "  'pedestrian': {'trans_err': 0.2889448486890956,\n",
       "   'vel_err': 0.5241181056124449,\n",
       "   'scale_err': 0.25946535841925444,\n",
       "   'orient_err': 0.6709655226968355,\n",
       "   'attr_err': 0.2727272727272727}}}"
      ]
     },
     "execution_count": 5,
     "metadata": {},
     "output_type": "execute_result"
    }
   ],
   "source": [
    "metric_results"
   ]
  },
  {
   "cell_type": "code",
   "execution_count": 6,
   "metadata": {},
   "outputs": [
    {
     "name": "stdout",
     "output_type": "stream",
     "text": [
      "\\begin{tabular}{lrrrrrr}\n",
      "\\toprule\n",
      "model & trans_err__car & trans_err__pedestrian & scale_err__car & scale_err__pedestrian & orient_err__car & orient_err__pedestrian \\\\\n",
      "\\midrule\n",
      "vanilla_restricted & 0.1519 & 0.1761 & 0.1548 & 0.2271 & 0.0793 & 0.5066 \\\\\n",
      "mobi_restricted & 0.2183 & 0.2889 & 0.1600 & 0.2595 & 0.4138 & 0.6710 \\\\\n",
      "\\bottomrule\n",
      "\\end{tabular}\n",
      "\n"
     ]
    }
   ],
   "source": [
    "# Make a dataframe with the foloowing structure:\n",
    "#   - Rows: metrics | car | pedestrian\n",
    "#   - Columns: models\n",
    "\n",
    "rows = []\n",
    "for k in (k for k in models.values() if k.endswith(\"restricted\")):\n",
    "    rows.append({\"model\": k, \n",
    "    **{f\"{m}__{c}\": metric_results[k][c][m] for m in metrics for c in classes}})\n",
    "df = pd.DataFrame(rows)\n",
    "\n",
    "# Remove vel_err and attr_err\n",
    "df = df.drop(columns=[\"vel_err__car\", \"vel_err__pedestrian\", \"attr_err__car\", \"attr_err__pedestrian\"])\n",
    "\n",
    "# Print as latex table\n",
    "\n",
    "print(df.to_latex(index=False, float_format=\"%.4f\"))"
   ]
  },
  {
   "cell_type": "code",
   "execution_count": 33,
   "metadata": {},
   "outputs": [
    {
     "name": "stdout",
     "output_type": "stream",
     "text": [
      "Number of confidences for vanilla: 379\n",
      "Number of confidences for vanilla_restricted: 222\n",
      "Number of confidences for mobi: 378\n",
      "Number of confidences for mobi_restricted: 216\n"
     ]
    },
    {
     "data": {
      "image/png": "[encoded data removed]",
      "text/plain": [
       "<Figure size 400x350 with 1 Axes>"
      ]
     },
     "metadata": {},
     "output_type": "display_data"
    }
   ],
   "source": [
    "# small figure\n",
    "fig, ax = plt.subplots(1, 1, figsize=(4, 3.5))\n",
    "\n",
    "for k, data in results.items():\n",
    "    # Just use a single line for the confidence histogram\n",
    "    label = {\n",
    "        \"vanilla\": \"Without reinsertion\",\n",
    "        \"vanilla_restricted\": \"Without reinsertion (restricted)\",\n",
    "        \"mobi\": \"With reinsertion\",\n",
    "        \"mobi_restricted\": \"With reinsertion (restricted)\"\n",
    "    }[k]\n",
    "    color, style = {\n",
    "        \"vanilla\": (\"blue\", \"-\"),\n",
    "        \"vanilla_restricted\": (\"red\", \"-\"),\n",
    "        \"mobi\": (\"blue\", \"--\"),\n",
    "        \"mobi_restricted\": (\"red\", \"--\")\n",
    "    }[k]\n",
    "    confidence = [c for d in distances for c in data[f\"car:{d}\"][\"confidence\"] if c > 0]\n",
    "    print(f\"Number of confidences for {k}: {len(confidence)}\")\n",
    "    plt.hist(confidence, bins=20, histtype='step', label=label, color=color, linestyle=style)\n",
    "    \n",
    "# Remove legend box\n",
    "plt.legend(loc='upper left', frameon=False, fontsize=8)\n",
    "plt.xlabel(\"Confidence\")\n",
    "plt.ylabel(\"Number of TP\")\n",
    "\n",
    "plt.savefig(\"confidence_histogram.pdf\", bbox_inches='tight')"
   ]
  },
  {
   "cell_type": "code",
   "execution_count": null,
   "metadata": {},
   "outputs": [],
   "source": []
  }
 ],
 "metadata": {
  "kernelspec": {
   "display_name": ".env",
   "language": "python",
   "name": "python3"
  },
  "language_info": {
   "codemirror_mode": {
    "name": "ipython",
    "version": 3
   },
   "file_extension": ".py",
   "mimetype": "text/x-python",
   "name": "python",
   "nbconvert_exporter": "python",
   "pygments_lexer": "ipython3",
   "version": "3.8.20"
  }
 },
 "nbformat": 4,
 "nbformat_minor": 2
}
