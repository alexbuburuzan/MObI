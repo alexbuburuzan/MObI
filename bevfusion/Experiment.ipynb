{
 "cells": [
  {
   "cell_type": "code",
   "execution_count": null,
   "metadata": {},
   "outputs": [],
   "source": [
    "import copy\n",
    "import os\n",
    "import pickle\n",
    "import cv2\n",
    "\n",
    "import numpy as np\n",
    "import torch\n",
    "import matplotlib.pyplot as plt\n",
    "import pandas as pd\n",
    "import math\n",
    "\n",
    "from mmdet3d.core.utils import visualize_camera, visualize_lidar\n",
    "from mmdet3d.core.bbox import LiDARInstance3DBoxes\n",
    "\n",
    "from typing import List, Optional, Tuple\n",
    "import point_cloud_utils as pcu\n",
    "\n",
    "from tools.data_converter.lidar_converter import LidarConverter\n",
    "\n",
    "def display_range(range):\n",
    "    plt.figure(figsize=(20, 10))\n",
    "    plt.imshow(range)\n",
    "    plt.show()\n"
   ]
  },
  {
   "cell_type": "markdown",
   "metadata": {},
   "source": [
    "### Range view"
   ]
  },
  {
   "cell_type": "code",
   "execution_count": null,
   "metadata": {},
   "outputs": [],
   "source": [
    "lidar_scan = np.load(\"./data/nuscenes/nuscenes_pbe_gt_database_train/sample-ca9a282c9e77460f8360f564131a8af5_lidar.npy\")\n",
    "points = lidar_scan[:, :3]\n",
    "\n",
    "lidar_top_viz = visualize_lidar(points, xlim=(-30, 30), ylim=(-30, 30))\n",
    "plt.figure(figsize=(20, 20))\n",
    "plt.imshow(lidar_top_viz)\n",
    "plt.axis('off')\n",
    "plt.show()\n",
    "\n",
    "points.shape\n",
    "\n",
    "lidar_converter = LidarConverter(W=1096, H=32)"
   ]
  },
  {
   "cell_type": "code",
   "execution_count": null,
   "metadata": {},
   "outputs": [],
   "source": [
    "print(\"Before resize\")\n",
    "# mask - 1 if point is in the depth interval, 0 otherwise\n",
    "proj_range, proj_feature, mask, range_pitch, range_yaw = lidar_converter.pcd2range(points, lidar_scan[:, 3])\n",
    "display_range(proj_range)\n",
    "display_range(range_pitch)\n",
    "display_range(range_yaw)\n",
    "\n",
    "# print(\"After resize\")\n",
    "# proj_range_resized, proj_feature_resized, _, _ = lidar_converter.resize(proj_range, proj_feature, new_H=64)\n",
    "# display_range(proj_range_resized)\n",
    "\n",
    "# print(\"Reconstructed\")\n",
    "# proj_range_resized, proj_feature_resized, _, _ = lidar_converter.resize(proj_range_resized, proj_feature_resized)\n",
    "# display_range(proj_range_resized)\n",
    "\n",
    "lidar_recon, _ = lidar_converter.range2pcd(proj_range, range_pitch, range_yaw)\n",
    "proj_range, proj_feature, _, range_pitch, range_yaw  = lidar_converter.pcd2range(lidar_recon)\n",
    "display_range(proj_range)\n",
    "\n",
    "lidar_recon, _ = lidar_converter.range2pcd(proj_range, range_pitch, range_yaw)\n",
    "proj_range, proj_feature, _, range_pitch, range_yaw = lidar_converter.pcd2range(lidar_recon)\n",
    "display_range(proj_range)"
   ]
  },
  {
   "cell_type": "code",
   "execution_count": null,
   "metadata": {},
   "outputs": [],
   "source": [
    "dists, corrs = pcu.k_nearest_neighbors(points[mask], lidar_recon, 1)"
   ]
  },
  {
   "cell_type": "code",
   "execution_count": null,
   "metadata": {},
   "outputs": [],
   "source": [
    "perm = [0, 2, 1]\n",
    "lidar_top_viz = visualize_lidar(points[mask][dists > 0.001][:, perm], xlim=(-20, 20), ylim=(-20, 20), dpi=30, points_color=(255, 0, 0))\n",
    "lidar_top_viz_recon = visualize_lidar(lidar_recon[:, perm], xlim=(-20, 20), ylim=(-20, 20), dpi=30)\n",
    "\n",
    "# Plot them side by side\n",
    "plt.figure(figsize=(20, 10))\n",
    "plt.subplot(1, 2, 1)\n",
    "plt.title(f\"Original | points {len(points[mask])}\")\n",
    "plt.imshow(lidar_top_viz)\n",
    "plt.axis('off')\n",
    "plt.subplot(1, 2, 2)\n",
    "plt.title(f\"Reconstructed | points {len(lidar_recon)}\")\n",
    "plt.imshow(lidar_top_viz_recon)\n",
    "plt.axis('off')\n",
    "\n",
    "# overlay the two images\n",
    "plt.figure(figsize=(20, 20))\n",
    "plt.imshow(lidar_top_viz)\n",
    "plt.imshow(lidar_top_viz_recon, alpha=0.5)\n",
    "plt.axis('off')\n",
    "\n",
    "\n",
    "plt.show()\n",
    "\n",
    "print(\"Percentage of points dropped\", np.round(1 - len(lidar_recon) / len(points[mask]), 4) * 100)\n",
    "\n",
    "\n",
    "print(pcu.chamfer_distance(lidar_recon, points[mask]), lidar_recon.shape, points[mask].shape)"
   ]
  },
  {
   "cell_type": "code",
   "execution_count": null,
   "metadata": {},
   "outputs": [],
   "source": [
    "len(dists < 0.001)"
   ]
  },
  {
   "cell_type": "markdown",
   "metadata": {},
   "source": [
    "### Benchmark reconstruction - old"
   ]
  },
  {
   "cell_type": "code",
   "execution_count": null,
   "metadata": {},
   "outputs": [],
   "source": [
    "import glob\n",
    "lidar_scans = glob.glob(\"/mnt/data/mobi/mit-bevfusion/data/nuscenes/nuscenes_pbe_gt_database_val/*lidar.npy\")\n",
    "\n",
    "ws = [1088, 1090, 1096] #2 ** np.arange(6, 13)\n",
    "results = {h: {w : [] for w in ws} for h in [32, 128]} \n",
    "\n",
    "for i, lidar_scan in enumerate(lidar_scans):\n",
    "    if i % 10 == 0:\n",
    "        print(f\"Processing {i}/{len(lidar_scans)}\")\n",
    "    points = np.load(lidar_scan)[:, :3].astype(np.float32)\n",
    "\n",
    "    for w in ws:\n",
    "        for h in results.keys():\n",
    "            lidar_converter = LidarConverter(W=w)\n",
    "            proj_range, proj_feature, mask, range_pitch, range_yaw = lidar_converter.pcd2range(points)\n",
    "            if h != 32:\n",
    "                proj_range, proj_feature, _, _ = lidar_converter.resize(proj_range, proj_feature, new_W=w, new_H=h)\n",
    "                proj_range, proj_feature, _, _ = lidar_converter.resize(proj_range, proj_feature, new_W=w, new_H=32)\n",
    "\n",
    "            lidar_recon, _ = lidar_converter.range2pcd(proj_range, range_pitch, range_yaw)\n",
    "\n",
    "            chamfer_dist = pcu.chamfer_distance(lidar_recon, points[mask])\n",
    "            rel_density = lidar_recon.shape[0] / points[mask].shape[0]\n",
    "            dropped_points = np.round((1 - rel_density) * 100, 2)\n",
    "            results[h][w].append(dropped_points)\n"
   ]
  },
  {
   "cell_type": "code",
   "execution_count": null,
   "metadata": {},
   "outputs": [],
   "source": [
    "plt.figure(figsize=(10, 7))\n",
    "plt.title(\"Dropped points (%) in reconstructed point cloud\")\n",
    "for h, w in results.items():\n",
    "    mean = [np.mean(v) for v in w.values()]\n",
    "    std = [np.std(v) for v in w.values()]\n",
    "    plt.errorbar(list(w.keys()), mean, yerr=std, label=h)\n",
    "plt.xlabel(\"Width of the range view (log2)\")\n",
    "plt.ylabel(\"Dropped points (%)\")\n",
    "plt.xscale('log', base=2)\n",
    "plt.legend()\n",
    "plt.show()\n"
   ]
  },
  {
   "cell_type": "code",
   "execution_count": null,
   "metadata": {},
   "outputs": [],
   "source": [
    "np.mean(results[32][1096])"
   ]
  },
  {
   "cell_type": "code",
   "execution_count": null,
   "metadata": {},
   "outputs": [],
   "source": [
    "range_depth = np.load(\"/mnt/data/mobi/mit-bevfusion/data/nuscenes/nuscenes_pbe_gt_database_train/sample-0cd661df01aa40c3bb3a773ba86f753a_range_depth.npy\")\n",
    "range_insensity = np.load(\"/mnt/data/mobi/mit-bevfusion/data/nuscenes/nuscenes_pbe_gt_database_train/sample-0cd661df01aa40c3bb3a773ba86f753a_range_intensity.npy\")"
   ]
  },
  {
   "cell_type": "code",
   "execution_count": null,
   "metadata": {},
   "outputs": [],
   "source": [
    "print(range_insensity.min(), range_insensity.max())\n",
    "print(range_depth.min(), range_depth.max())\n",
    "range_depth.shape"
   ]
  },
  {
   "cell_type": "code",
   "execution_count": null,
   "metadata": {},
   "outputs": [],
   "source": [
    "plt.figure(figsize=(20, 10))\n",
    "plt.imshow(range_depth, cmap=\"turbo\")\n",
    "plt.show()\n",
    "\n",
    "plt.figure(figsize=(20, 10))\n",
    "plt.imshow(range_insensity, cmap=\"turbo\")\n",
    "plt.show()"
   ]
  },
  {
   "cell_type": "code",
   "execution_count": null,
   "metadata": {},
   "outputs": [],
   "source": []
  }
 ],
 "metadata": {
  "kernelspec": {
   "display_name": "openmmlab",
   "language": "python",
   "name": "python3"
  },
  "language_info": {
   "codemirror_mode": {
    "name": "ipython",
    "version": 3
   },
   "file_extension": ".py",
   "mimetype": "text/x-python",
   "name": "python",
   "nbconvert_exporter": "python",
   "pygments_lexer": "ipython3",
   "version": "3.8.18"
  }
 },
 "nbformat": 4,
 "nbformat_minor": 2
}
